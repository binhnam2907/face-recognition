{
 "cells": [
  {
   "cell_type": "code",
   "execution_count": 1,
   "metadata": {},
   "outputs": [],
   "source": [
    "from deepface import DeepFace"
   ]
  },
  {
   "cell_type": "code",
   "execution_count": 2,
   "metadata": {},
   "outputs": [
    {
     "name": "stdout",
     "output_type": "stream",
     "text": [
      "vgg_face_weights.h5 will be downloaded...\n"
     ]
    },
    {
     "name": "stderr",
     "output_type": "stream",
     "text": [
      "Downloading...\n",
      "From: https://github.com/serengil/deepface_models/releases/download/v1.0/vgg_face_weights.h5\n",
      "To: C:\\Users\\Admin\\.deepface\\weights\\vgg_face_weights.h5\n",
      "100%|██████████| 580M/580M [00:31<00:00, 18.4MB/s] \n"
     ]
    },
    {
     "data": {
      "text/plain": [
       "{'verified': False,\n",
       " 'distance': 0.6103671739406649,\n",
       " 'threshold': 0.4,\n",
       " 'model': 'VGG-Face',\n",
       " 'detector_backend': 'opencv',\n",
       " 'similarity_metric': 'cosine',\n",
       " 'facial_areas': {'img1': {'x': 403, 'y': 168, 'w': 305, 'h': 305},\n",
       "  'img2': {'x': 509, 'y': 101, 'w': 293, 'h': 293}},\n",
       " 'time': 37.95}"
      ]
     },
     "execution_count": 2,
     "metadata": {},
     "output_type": "execute_result"
    }
   ],
   "source": [
    "DeepFace.verify(\"data/sample1.jpg\", \"data/sample2.jpg\")"
   ]
  },
  {
   "cell_type": "code",
   "execution_count": 3,
   "metadata": {},
   "outputs": [
    {
     "data": {
      "text/plain": [
       "{'verified': False,\n",
       " 'distance': 0.5644639632238277,\n",
       " 'threshold': 0.4,\n",
       " 'model': 'VGG-Face',\n",
       " 'detector_backend': 'opencv',\n",
       " 'similarity_metric': 'cosine',\n",
       " 'facial_areas': {'img1': {'x': 509, 'y': 101, 'w': 293, 'h': 293},\n",
       "  'img2': {'x': 252, 'y': 36, 'w': 207, 'h': 207}},\n",
       " 'time': 0.88}"
      ]
     },
     "execution_count": 3,
     "metadata": {},
     "output_type": "execute_result"
    }
   ],
   "source": [
    "DeepFace.verify(\"data/sample2.jpg\", \"data/sample3.jpg\")"
   ]
  },
  {
   "cell_type": "code",
   "execution_count": 4,
   "metadata": {},
   "outputs": [],
   "source": [
    "from RetinaFace2 import *"
   ]
  },
  {
   "cell_type": "code",
   "execution_count": 5,
   "metadata": {},
   "outputs": [
    {
     "name": "stdout",
     "output_type": "stream",
     "text": [
      "[(array([ 95.055466,  31.090014, 219.90457 , 218.13069 ], dtype=float32), array([[131.62802 , 103.34407 ],\n",
      "       [193.72441 , 102.803986],\n",
      "       [165.74094 , 135.65167 ],\n",
      "       [135.33592 , 169.2257  ],\n",
      "       [188.3365  , 168.89752 ]], dtype=float32), 0.9997136)]\n"
     ]
    }
   ],
   "source": [
    "retina = RetinaFace()\n",
    "image = cv2.imread(\"data/sample.jpg\")\n",
    "print(retina(image))"
   ]
  }
 ],
 "metadata": {
  "kernelspec": {
   "display_name": "Python 3",
   "language": "python",
   "name": "python3"
  },
  "language_info": {
   "codemirror_mode": {
    "name": "ipython",
    "version": 3
   },
   "file_extension": ".py",
   "mimetype": "text/x-python",
   "name": "python",
   "nbconvert_exporter": "python",
   "pygments_lexer": "ipython3",
   "version": "3.10.2"
  },
  "orig_nbformat": 4
 },
 "nbformat": 4,
 "nbformat_minor": 2
}
